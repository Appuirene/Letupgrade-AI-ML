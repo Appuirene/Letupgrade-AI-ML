{
 "cells": [
  {
   "cell_type": "code",
   "execution_count": 2,
   "metadata": {},
   "outputs": [
    {
     "name": "stdout",
     "output_type": "stream",
     "text": [
      "enter the value of a: 10\n",
      "enter the value of b: 5\n",
      "after swapping\n",
      "value of a: 5\n",
      "value of b: 10\n"
     ]
    }
   ],
   "source": [
    "#swaping two number with variable\n",
    "\n",
    "a=int(input(\"enter the value of a:\" ))\n",
    "b=int(input(\"enter the value of b:\" ))\n",
    "temp =a\n",
    "a=b\n",
    "b=temp\n",
    "print(\"after swapping\")\n",
    "print(\"value of a:\", a)\n",
    "print(\"value of b:\", b)\n"
   ]
  },
  {
   "cell_type": "code",
   "execution_count": 3,
   "metadata": {},
   "outputs": [
    {
     "name": "stdout",
     "output_type": "stream",
     "text": [
      "enter the value of a:15\n",
      "enter the value of b:10\n",
      "after swapping\n",
      "value of a: 10\n",
      "value of b: 15\n"
     ]
    }
   ],
   "source": [
    "#swaping two number without variable\n",
    "\n",
    "a=int(input(\"enter the value of a:\" ))\n",
    "b=int(input(\"enter the value of b:\" ))\n",
    "\n",
    "a=a+b\n",
    "b=a-b\n",
    "a=a-b\n",
    "\n",
    "print(\"after swapping\")\n",
    "print(\"value of a:\", a)\n",
    "print(\"value of b:\", b)"
   ]
  },
  {
   "cell_type": "code",
   "execution_count": 9,
   "metadata": {},
   "outputs": [
    {
     "ename": "SyntaxError",
     "evalue": "invalid syntax (<ipython-input-9-d4d73bf118fb>, line 5)",
     "output_type": "error",
     "traceback": [
      "\u001b[1;36m  File \u001b[1;32m\"<ipython-input-9-d4d73bf118fb>\"\u001b[1;36m, line \u001b[1;32m5\u001b[0m\n\u001b[1;33m    print \"temperatur in Celsius: {}\" .format(tc)\u001b[0m\n\u001b[1;37m                                    ^\u001b[0m\n\u001b[1;31mSyntaxError\u001b[0m\u001b[1;31m:\u001b[0m invalid syntax\n"
     ]
    }
   ],
   "source": [
    "#to convert fahrenheit to celsius tc=(t-32)/1.8c\n",
    "\n",
    "tf=float(raw_input(\"enter the temperatur in fahrenheit: \"))\n",
    "tc=(tf-32)/1.8\n",
    "print \"temperatur in Celsius: {}\" .format(tc)\n",
    "print(\"exit\")\n"
   ]
  },
  {
   "cell_type": "code",
   "execution_count": 13,
   "metadata": {},
   "outputs": [
    {
     "data": {
      "text/plain": [
       "8.0"
      ]
     },
     "execution_count": 13,
     "metadata": {},
     "output_type": "execute_result"
    }
   ],
   "source": [
    "#create function to find the fourth root of a number\n",
    "\n",
    "import math\n",
    "\n",
    "\n",
    "#to find the nth root\n",
    "\n",
    "def square_root(num):\n",
    "    return math.sqrt(num)\n",
    "\n",
    "square_root(64)\n",
    "\n",
    "\n",
    "\n",
    "\n",
    "\n"
   ]
  },
  {
   "cell_type": "raw",
   "metadata": {},
   "source": [
    "#create function to find the nth root of a number\n",
    "\n",
    "import math\n",
    "\n",
    "#to find the nth root\n",
    "\n",
    "def nth_root(num,root):\n",
    "    answer = num**(1/root)\n",
    "    return answer\n",
    "\n",
    "nth_root(81,4)"
   ]
  },
  {
   "cell_type": "code",
   "execution_count": null,
   "metadata": {},
   "outputs": [],
   "source": []
  },
  {
   "cell_type": "code",
   "execution_count": null,
   "metadata": {},
   "outputs": [],
   "source": []
  },
  {
   "cell_type": "code",
   "execution_count": null,
   "metadata": {},
   "outputs": [],
   "source": []
  }
 ],
 "metadata": {
  "kernelspec": {
   "display_name": "Python 3",
   "language": "python",
   "name": "python3"
  },
  "language_info": {
   "codemirror_mode": {
    "name": "ipython",
    "version": 3
   },
   "file_extension": ".py",
   "mimetype": "text/x-python",
   "name": "python",
   "nbconvert_exporter": "python",
   "pygments_lexer": "ipython3",
   "version": "3.7.6"
  }
 },
 "nbformat": 4,
 "nbformat_minor": 4
}
